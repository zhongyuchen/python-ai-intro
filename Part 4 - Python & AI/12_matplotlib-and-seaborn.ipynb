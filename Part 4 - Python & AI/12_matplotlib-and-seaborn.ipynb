{
 "cells": [
  {
   "cell_type": "markdown",
   "metadata": {},
   "source": [
    "# Python Modules - Matplotlib and Seaborn\n",
    "\n",
    "*By Dr Chas Nelson and Mikolaj Kundegorski*"
   ]
  },
  {
   "cell_type": "markdown",
   "metadata": {},
   "source": [
    "## Objectives\n",
    "\n",
    "* Know about the plotting functions provided by Matplotlib (`matplotlib`)\n",
    "* Know about the plotting functions provided by Seaborn (`seaborn`)\n",
    "* Know how to plot a scatterplot (with a regression model) with Seaborn\n",
    "* Know how to plot boxplots with Seaborn\n",
    "* Know how to edit and save plots with Matplotlib\n",
    "* See that it is possible to do more complex plotting with Seaborn"
   ]
  },
  {
   "cell_type": "markdown",
   "metadata": {},
   "source": [
    "## Matplotlib\n",
    "\n",
    "Matplotlib (`matplotlib`) is the most widely used scientific plotting module in Python. Many other modules are built upon Matplotlib and we will explore one of these in particular: Seaborn.\n",
    "\n",
    "Matplotlib is a huge module and we will only introduce you to a few plotting tools today.\n",
    "\n",
    "In order to make Jupyter show plots just saved with command `plt.savefig()` we need to use a 'magic' command: `%matplotlib inline`\n",
    "\n",
    "Most of the functions we will need are in the `matplotlib.pyplot` submodule - so we will only import that today."
   ]
  },
  {
   "cell_type": "markdown",
   "metadata": {},
   "source": [
    "<div style=\"background-color:#abd9e9; border-radius: 5px; padding: 10pt\"><strong>Task 12.1:</strong> In the cell below, add a line to import the <code>matplotlib.pyplot</code> submodule. It is conventional to give this the alias <code>plt</code>. In the same cell import the <code>pandas</code> module.\n",
    "<br/>\n",
    "If you get stuck, see the video <a href='https://youtu.be/8eMkAYZYGEs'>here</a> for a walkthrough, which also covers the next task.</div>"
   ]
  },
  {
   "cell_type": "code",
   "execution_count": null,
   "metadata": {},
   "outputs": [],
   "source": [
    "import pandas as pd"
   ]
  },
  {
   "cell_type": "markdown",
   "metadata": {},
   "source": [
    "<div style=\"background-color:#abd9e9; border-radius: 5px; padding: 10pt\"><strong>Task 12.2:</strong> Find the Matplotlib Documentation on-line. Can you easily navigate the documentation to find useful functions such as <code>plot</code>?\n",
    "<br/>\n",
    "</div>"
   ]
  },
  {
   "cell_type": "code",
   "execution_count": null,
   "metadata": {},
   "outputs": [],
   "source": [
    "%matplotlib inline\n",
    "\n",
    "# Add you imports here\n",
    "\n",
    "cars = pd.read_excel('cars.xlsx')\n",
    "display(cars.head())"
   ]
  },
  {
   "cell_type": "code",
   "execution_count": null,
   "metadata": {},
   "outputs": [],
   "source": [
    "#Show unique value in Make\n",
    "cars.Make.unique()"
   ]
  },
  {
   "cell_type": "code",
   "execution_count": null,
   "metadata": {},
   "outputs": [],
   "source": [
    "#Show the counts for each unique category in Type\n",
    "cars.Make.value_counts()"
   ]
  },
  {
   "cell_type": "markdown",
   "metadata": {},
   "source": [
    "### Scatter Plotting with Matplotlib\n",
    "\n",
    "Plotting with Matplotlib is powerful but can be complicated (especially when you first start).\n",
    "\n",
    "The basic framework for a Matplotlib figure is the following:\n",
    "\n",
    "```python\n",
    "plt.figure()\n",
    "\n",
    "<FIGURE CODE>  # Where line and scatter plots are added\n",
    "\n",
    "plt.legend()\n",
    "\n",
    "plt.title('Plot Title')\n",
    "plt.xlabel('X Axis Label')\n",
    "plt.ylabel('Y Axis Label')\n",
    "\n",
    "plt.savefig('myplot.png')  # To save the plot\n",
    "plt.show()  # To display the plot\n",
    "\n",
    "```"
   ]
  },
  {
   "cell_type": "markdown",
   "metadata": {},
   "source": [
    "<div style=\"background-color:#abd9e9; border-radius: 5px; padding: 10pt\"><strong>Task 12.3:</strong> Run the following cell to show how to create a scatter plot between two variables for each car type (using a different colour) with a linear regression model fit for each. Don't worry about understanding everything - this is just to show you the complexities of plotting.\n",
    "<br/>\n",
    "</div>"
   ]
  },
  {
   "cell_type": "code",
   "execution_count": null,
   "metadata": {},
   "outputs": [],
   "source": [
    "# Imports\n",
    "import numpy as np\n",
    "import pandas as pd\n",
    "import matplotlib.pyplot as plt\n",
    "import scipy.stats"
   ]
  },
  {
   "cell_type": "code",
   "execution_count": null,
   "metadata": {},
   "outputs": [],
   "source": [
    "# Create figure thats 5 by 5 inches\n",
    "plt.figure(figsize=[5,5])"
   ]
  },
  {
   "cell_type": "markdown",
   "metadata": {},
   "source": [
    " ### Pick a color from <a href='https://matplotlib.org/stable/tutorials/colors/colors.html#sphx-glr-tutorials-colors-colors-py'>here</a>"
   ]
  },
  {
   "cell_type": "code",
   "execution_count": null,
   "metadata": {},
   "outputs": [],
   "source": [
    "#Draw a histogram,modify the numbers of bins and color\n",
    "plt.hist(cars.Weight)"
   ]
  },
  {
   "cell_type": "code",
   "execution_count": null,
   "metadata": {},
   "outputs": [],
   "source": [
    "#Draw a scatter plot, please change color and marker\n",
    "plt.scatter(cars.Weight,cars.Length)"
   ]
  },
  {
   "cell_type": "code",
   "execution_count": null,
   "metadata": {},
   "outputs": [],
   "source": [
    "#Draw a bar chart\n",
    "plt.bar(cars.Type,cars.Weight)"
   ]
  },
  {
   "cell_type": "code",
   "execution_count": null,
   "metadata": {},
   "outputs": [],
   "source": [
    "# Create a mask for each Type\n",
    "maskSUV = cars.loc[:,'Type']=='SUV'\n",
    "maskSedan = cars.loc[:,'Type']=='Sedan'\n",
    "maskSport = cars.loc[:,'Type']=='Sports'"
   ]
  },
  {
   "cell_type": "code",
   "execution_count": null,
   "metadata": {
    "scrolled": true
   },
   "outputs": [],
   "source": [
    "# Plot a scatter for each Type in a unqiue colour showing Length against Weight\n",
    "plt.scatter(cars.loc[maskSUV,'Length'],cars.loc[maskSUV,'Weight'],color='purple',label='SUV')\n",
    "plt.scatter(cars.loc[maskSedan,'Length'],cars.loc[maskSedan,'Weight'],color='lightblue',label='Sedan')\n",
    "plt.scatter(cars.loc[maskSport,'Length'],cars.loc[maskSport,'Weight'],color='orange',label='Sport')\n",
    "\n",
    "# Calculate a linear regression model for each TYPE\n",
    "slopeSUV, interceptSUV, r_valueSUV, p_valueSUV, std_errSUV = scipy.stats.linregress(cars.loc[maskSUV,'Length'],cars.loc[maskSUV,'Weight'])\n",
    "slopeSedan, interceptSedan, r_valueSedan, p_valueSedan, std_errSedan = scipy.stats.linregress(cars.loc[maskSedan,'Length'],cars.loc[maskSedan,'Weight'])\n",
    "slopeSport, interceptSport, r_valueSport, p_valueSport, std_errSport = scipy.stats.linregress(cars.loc[maskSport,'Length'],cars.loc[maskSport,'Weight'])\n",
    "\n",
    "# Plot a line for each model over the range of car Length using the colours from the appropriate scatter\n",
    "xSUV = np.linspace(cars.loc[maskSUV,'Length'].min(),cars.loc[maskSUV,'Length'].max(),100)\n",
    "ySUV = slopeSUV*xSUV + interceptSUV\n",
    "plt.plot(xSUV,ySUV,color='#FF0000')\n",
    "\n",
    "xSedan = np.linspace(cars.loc[maskSedan,'Length'].min(),cars.loc[maskSedan,'Length'].max(),100)\n",
    "ySedan = slopeSedan*xSedan + interceptSedan\n",
    "plt.plot(xSedan,ySedan,color='#00FF00')\n",
    "\n",
    "xSport = np.linspace(cars.loc[maskSport,'Length'].min(),cars.loc[maskSport,'Length'].max(),100)\n",
    "ySport = slopeSport*xSport + interceptSport\n",
    "plt.plot(xSport,ySport,color='#0000FF')\n",
    "\n",
    "# Add a legend\n",
    "plt.legend()\n",
    "\n",
    "# Add a title and axis labels\n",
    "plt.title('Car Length Against Car Weight')\n",
    "plt.ylabel('car_weight')\n",
    "plt.xlabel('car_length')\n",
    "\n",
    "plt.savefig('myMatplotlibFigure.png')"
   ]
  },
  {
   "cell_type": "markdown",
   "metadata": {},
   "source": [
    "## Seaborn\n",
    "\n",
    "I'm sure we all agree that that's quite a lot of code - and quite daunting if you've never seen it before. But don't worry! Seaborn is here to make you life easier.\n",
    "\n",
    "Matplotlib is an extremely powerful module. However, it can be complex, so some packages, like Seaborn, build upon Matplotlib to make plotting a little quicker and easier.\n",
    "\n",
    "### Scatter Plotting with `seaborn`\n",
    "\n",
    "Let's start by recreating the plot above."
   ]
  },
  {
   "cell_type": "markdown",
   "metadata": {},
   "source": [
    "<div style=\"background-color:#abd9e9; border-radius: 5px; padding: 10pt\"><strong>Task 12.4:</strong> Run the following cell to show how import <code>seaborn</code> and to create a scatter plot between length and weight for each car types (using a different colour) with a linear regression model fit for each.\n",
    "<br/>\n",
    "When you've done this, or if you get stuck, see the video <a href='https://youtu.be/YQrCY9YWUr0'>here</a> for a walkthrough.</div>"
   ]
  },
  {
   "cell_type": "code",
   "execution_count": null,
   "metadata": {},
   "outputs": [],
   "source": [
    "# Imports\n",
    "import seaborn as sns\n",
    "\n",
    "# Create a plot of Length vs Weight where colour (hue) is controlled by the type\n",
    "#\n",
    "# 'height' controls the figure height in inches\n",
    "# 'truncate' prevents the regression extending beyond the data\n",
    "carsimple=cars[cars.Type.isin(['SUV','Sedan','Sports'])]\n",
    "sns.lmplot(x='Length',y='Weight',data=carsimple,hue='Type',height=5,truncate=True)\n",
    "\n",
    "# Save figure\n",
    "plt.savefig('mySeabornFigure.png')"
   ]
  },
  {
   "cell_type": "markdown",
   "metadata": {},
   "source": [
    "### Faceted plotting with Seaborn\n",
    "\n",
    "Isn't that a lot simpler?!\n",
    "\n",
    "Seaborn is doing all the hard work for you - it creates the figure, the scatter plots, the legend and it does the regression and plots the model with error bounds too.\n",
    "\n",
    "But what if we want to split the data across three plots? Again, Seaborn comes to the rescue."
   ]
  },
  {
   "cell_type": "markdown",
   "metadata": {},
   "source": [
    "<div style=\"background-color:#fdae61; border-radius: 5px; padding: 10pt\"><strong>Exercise 12.5:</strong> Compare the following code cell to the code cell above. Can you spot the difference? Run the cell to show how easy it is to create a faceted plot (which is what this is called).\n",
    "<br/>\n",
    "When you've done this, or if you get stuck, see the video <a href='https://youtu.be/rLcfMBMMNKM'>here</a> for a walkthrough.</div>"
   ]
  },
  {
   "cell_type": "code",
   "execution_count": null,
   "metadata": {},
   "outputs": [],
   "source": [
    "# Imports\n",
    "import seaborn as sns\n",
    "\n",
    "# Create a plot of Length vs Weight where colour (hue) is controlled by the Type\n",
    "# height controls the figure height in inches\n",
    "# truncate prevents the regression extending beyond the data\n",
    "sns.lmplot(x='Length',y='Weight',data=carsimple,hue='Type',col='Type',height=5,truncate=True)\n",
    "\n",
    "# Save figure\n",
    "plt.savefig('myFacetedFigure.png')"
   ]
  },
  {
   "cell_type": "markdown",
   "metadata": {},
   "source": [
    "## Boxplots\n",
    "\n",
    "Scatter and line plots are all part of Seaborn's relational plot tools. But sometimes we have categorical data (such as Type) and might want to use box plots to explore this data."
   ]
  },
  {
   "cell_type": "markdown",
   "metadata": {},
   "source": [
    "<div style=\"background-color:#fdae61; border-radius: 5px; padding: 10pt\"><strong>Exercise 12.6:</strong> Read the cell below. This cells aims to create a boxplot using <code>seaborn</code> for the Weight of each car type (each TYPE should be a different colour). Create a new Markdown cell below and write down, in plain English, what each line is doing. \n",
    "<br/>\n",
    "</div>"
   ]
  },
  {
   "cell_type": "code",
   "execution_count": null,
   "metadata": {},
   "outputs": [],
   "source": [
    "# Plot the data\n",
    "sns.catplot(x='Type',\n",
    "            y='Weight',\n",
    "            data=cars,\n",
    "            kind=\"box\",\n",
    "            height=5,\n",
    "            aspect=1);\n",
    "\n",
    "# Save the plot\n",
    "plt.savefig('myBoxplot.png')"
   ]
  },
  {
   "cell_type": "markdown",
   "metadata": {},
   "source": [
    "## Plotting Contexts\n",
    "\n",
    "And finally, we often make plots for different purposes. And Seaborn has, yet again, got us covered. "
   ]
  },
  {
   "cell_type": "markdown",
   "metadata": {},
   "source": [
    "<div style=\"background-color:#fdae61; border-radius: 5px; padding: 10pt\"><strong>Exercise 12.7:</strong> Run the following cell to show how the same scatter plot as above can be easily replicated with subtle display difference for four different contexts.\n",
    "<br/>\n",
    "When you've done this, or if you get stuck, see the video <a href='https://youtu.be/HSj180pc0q4'>here</a> for a walkthrough.</div>"
   ]
  },
  {
   "cell_type": "code",
   "execution_count": null,
   "metadata": {
    "scrolled": true
   },
   "outputs": [],
   "source": [
    "with sns.plotting_context('notebook'):\n",
    "    sns.lmplot(x='Length',y='Weight',data=cars,hue='Type',height=5,truncate=True)\n",
    "    \n",
    "with sns.plotting_context('paper'):\n",
    "    sns.lmplot(x='Length',y='Weight',data=cars,hue='Type',height=5,truncate=True)\n",
    "    \n",
    "with sns.plotting_context('talk'):\n",
    "    sns.lmplot(x='Length',y='Weight',data=cars,hue='Type',height=5,truncate=True)\n",
    "    \n",
    "with sns.plotting_context('poster'):\n",
    "    sns.lmplot(x='Length',y='Weight',data=cars,hue='Type',height=5,truncate=True)"
   ]
  },
  {
   "cell_type": "markdown",
   "metadata": {},
   "source": [
    "## Key Points\n",
    "\n",
    "* `matplotlib` adds plotting functionality to your Python codes\n",
    "* `seaborn` makes plotting lots of data very quick and easy\n",
    "* `matplotlib` can be used to modify plots produced by `seaborn`\n",
    "* `sns.plotting_context()` can be used to create different plots for different purposes\n",
    "* Knowing how to plot exactly what you want will come with time, practice and a bit of on-line searching!"
   ]
  }
 ],
 "metadata": {
  "kernelspec": {
   "display_name": "Python 3",
   "language": "python",
   "name": "python3"
  },
  "language_info": {
   "codemirror_mode": {
    "name": "ipython",
    "version": 3
   },
   "file_extension": ".py",
   "mimetype": "text/x-python",
   "name": "python",
   "nbconvert_exporter": "python",
   "pygments_lexer": "ipython3",
   "version": "3.7.1"
  },
  "widgets": {
   "application/vnd.jupyter.widget-state+json": {
    "state": {},
    "version_major": 2,
    "version_minor": 0
   }
  }
 },
 "nbformat": 4,
 "nbformat_minor": 4
}
