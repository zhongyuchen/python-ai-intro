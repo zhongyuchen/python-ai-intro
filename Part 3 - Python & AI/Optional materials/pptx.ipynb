{
 "cells": [
  {
   "cell_type": "markdown",
   "metadata": {},
   "source": [
    "## python-pptx\n",
    "python-pptx is a Python library for creating and updating PowerPoint (.pptx) files.\n",
    "<br/>\n",
    "Click <a href='https://python-pptx.readthedocs.io/en/latest/index.html'>HERE</a> to access the documentation"
   ]
  },
  {
   "cell_type": "code",
   "execution_count": null,
   "metadata": {
    "scrolled": true
   },
   "outputs": [],
   "source": [
    "!pip install python-pptx"
   ]
  },
  {
   "cell_type": "code",
   "execution_count": null,
   "metadata": {},
   "outputs": [],
   "source": [
    "#import pptx module\n",
    "from pptx import Presentation"
   ]
  },
  {
   "cell_type": "code",
   "execution_count": null,
   "metadata": {},
   "outputs": [],
   "source": [
    "#Create a Powerpoint object\n",
    "prs = Presentation()"
   ]
  },
  {
   "cell_type": "code",
   "execution_count": null,
   "metadata": {},
   "outputs": [],
   "source": [
    "#add a layout\n",
    "title_slide_layout = prs.slide_layouts[0]\n",
    "\n",
    "#add a slide\n",
    "slide = prs.slides.add_slide(title_slide_layout)\n",
    "\n",
    "#add a title box\n",
    "title = slide.shapes.title\n",
    "\n",
    "#add a placeholder for subtitle\n",
    "subtitle = slide.placeholders[1]\n",
    "\n",
    "#input the text into the title box and placeholder\n",
    "title.text = \"Hello, World!\"\n",
    "subtitle.text = \"python-pptx was here!\"\n",
    "\n",
    "#save the slides\n",
    "prs.save('test.pptx')"
   ]
  },
  {
   "cell_type": "code",
   "execution_count": null,
   "metadata": {},
   "outputs": [],
   "source": [
    "# Add some AutoShape\n",
    "from pptx import Presentation\n",
    "from pptx.enum.shapes import MSO_SHAPE\n",
    "from pptx.util import Inches\n",
    "\n",
    "prs = Presentation()\n",
    "title_only_slide_layout = prs.slide_layouts[5]\n",
    "slide = prs.slides.add_slide(title_only_slide_layout)\n",
    "shapes = slide.shapes\n",
    "\n",
    "shapes.title.text = 'Adding an AutoShape'\n",
    "\n",
    "#create some length object\n",
    "left = Inches(0.93)  # 0.93\" centers this overall set of shapes\n",
    "top = Inches(3.0)\n",
    "width = Inches(1.75)\n",
    "height = Inches(1.0)\n",
    "\n",
    "#Add first chevron\n",
    "shape = shapes.add_shape(MSO_SHAPE.PENTAGON, left, top, width, height)\n",
    "shape.text = 'Step 1'\n",
    "\n",
    "left = left + width - Inches(0.4)\n",
    "width = Inches(2.0)  # chevrons need more width for visual balance\n",
    "\n",
    "#Add more shapes\n",
    "for n in range(2, 6):\n",
    "    shape = shapes.add_shape(MSO_SHAPE.CHEVRON, left, top, width, height)\n",
    "    shape.text = 'Step %d' % n    # %d % n, means that you want to insert some number with a variable n\n",
    "    left = left + width - Inches(0.4)\n",
    "\n",
    "prs.save('test.pptx')"
   ]
  },
  {
   "cell_type": "code",
   "execution_count": null,
   "metadata": {},
   "outputs": [],
   "source": [
    "#add a Image\n",
    "from pptx import Presentation\n",
    "from pptx.util import Inches\n",
    "\n",
    "img_path = 'koala.jpg'\n",
    "\n",
    "prs = Presentation()\n",
    "blank_slide_layout = prs.slide_layouts[6]\n",
    "slide = prs.slides.add_slide(blank_slide_layout)\n",
    "\n",
    "\n",
    "left = Inches(2)\n",
    "height = Inches(2)\n",
    "pic = slide.shapes.add_picture(img_path, left, top, height=height)\n",
    "\n",
    "prs.save('test.pptx')"
   ]
  }
 ],
 "metadata": {
  "kernelspec": {
   "display_name": "Python 3",
   "language": "python",
   "name": "python3"
  },
  "language_info": {
   "codemirror_mode": {
    "name": "ipython",
    "version": 3
   },
   "file_extension": ".py",
   "mimetype": "text/x-python",
   "name": "python",
   "nbconvert_exporter": "python",
   "pygments_lexer": "ipython3",
   "version": "3.7.1"
  }
 },
 "nbformat": 4,
 "nbformat_minor": 2
}
