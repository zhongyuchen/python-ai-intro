{
 "cells": [
  {
   "cell_type": "markdown",
   "metadata": {},
   "source": [
    "## PDF\n",
    "In this notebook, you will learn:\n",
    "* How to read pdf file into python\n",
    "* Split a multipage PDF file into individual pdf file\n",
    "* Convert PDF to image"
   ]
  },
  {
   "cell_type": "code",
   "execution_count": null,
   "metadata": {},
   "outputs": [],
   "source": [
    "!pip install PyPDF2"
   ]
  },
  {
   "cell_type": "code",
   "execution_count": null,
   "metadata": {},
   "outputs": [],
   "source": [
    "from PyPDF2 import PdfFileWriter, PdfFileReader"
   ]
  },
  {
   "cell_type": "code",
   "execution_count": null,
   "metadata": {},
   "outputs": [],
   "source": [
    "#define the PDF file location and the n\n",
    "filename = \"long-sample.pdf\"\n",
    "directory = \"splitted/\"+filename\n",
    "\n",
    "#define a function to split the pdf file\n",
    "def split(directory, filename):\n",
    "    inputpdf = PdfFileReader(open(filename, \"rb\"))\n",
    "    \n",
    "    #try and except is used to handle exceptions\n",
    "    try:\n",
    "        os.makedirs(directory)\n",
    "    except FileExistsError:\n",
    "        pass\n",
    "    \n",
    "    #Create a loop to save each page in PDF file into single PDF file\n",
    "    for i in range(inputpdf.numPages):\n",
    "        output = PdfFileWriter()\n",
    "        output.addPage(inputpdf.getPage(i))\n",
    "        with open(directory+ \"/%s.pdf\" % i, \"wb\") as outputStream:\n",
    "            output.write(outputStream)"
   ]
  },
  {
   "cell_type": "code",
   "execution_count": null,
   "metadata": {},
   "outputs": [],
   "source": [
    "#run the function and take a look at the folder\n",
    "split(directory, filename)"
   ]
  },
  {
   "cell_type": "markdown",
   "metadata": {},
   "source": [
    "## Covert pdf to image"
   ]
  },
  {
   "cell_type": "code",
   "execution_count": null,
   "metadata": {},
   "outputs": [],
   "source": [
    "#read the long-sample file again\n",
    "pdf=PdfFileReader(open(filename, \"rb\"))\n",
    "firstpage=pdf.getPage(1)"
   ]
  },
  {
   "cell_type": "code",
   "execution_count": null,
   "metadata": {},
   "outputs": [],
   "source": [
    "#Create a function to convert pdf to png\n",
    "import io\n",
    "import os\n",
    "from wand.image import Image\n",
    "\n",
    "def pdf_page_to_image(src_pdf, pagenum = 0, resolution = 200,imgformat = 'png'):\n",
    "    \"\"\"\n",
    "    Returns specified PDF page as wand.image.Image png.\n",
    "    :param PyPDF2.PdfFileReader src_pdf: PDF from which to take pages.\n",
    "    :param int pagenum: Page number to take.\n",
    "    :param int resolution: Resolution for resulting png in DPI.\n",
    "    \"\"\"\n",
    "    dst_pdf = PyPDF2.PdfFileWriter()\n",
    "    dst_pdf.addPage(src_pdf.getPage(pagenum))\n",
    "\n",
    "    pdf_bytes = io.BytesIO() \n",
    "    dst_pdf.write(pdf_bytes) #Read the pdf page and keep it in the memory\n",
    "    pdf_bytes.seek(0)\n",
    "\n",
    "    img = Image(file = pdf_bytes, resolution = resolution)\n",
    "    img.convert(imgformat)\n",
    "\n",
    "    return img"
   ]
  },
  {
   "cell_type": "code",
   "execution_count": null,
   "metadata": {},
   "outputs": [],
   "source": [
    "#Try use the above function \n",
    "img=pdf_page_to_image(pdf,pagenum=0)"
   ]
  },
  {
   "cell_type": "code",
   "execution_count": null,
   "metadata": {
    "scrolled": true
   },
   "outputs": [],
   "source": [
    "img"
   ]
  },
  {
   "cell_type": "code",
   "execution_count": null,
   "metadata": {},
   "outputs": [],
   "source": [
    "#save the image\n",
    "img.save(filename = \"firstpage.png\")"
   ]
  },
  {
   "cell_type": "code",
   "execution_count": null,
   "metadata": {
    "scrolled": true
   },
   "outputs": [],
   "source": [
    "#Use a for loop to convert all the pages into image\n",
    "def allpdf_to_image(src_pdf):\n",
    "    try:\n",
    "        os.makedirs(\"src_pdf/\")\n",
    "    except FileExistsError:\n",
    "        pass\n",
    "    \n",
    "    for each in range(src_pdf.numPages):\n",
    "        img=pdf_page_to_image(src_pdf,pagenum=each)\n",
    "        img.save(filename = os.getcwd()+\"/src_pdf/\"+f\"{each}.png\")"
   ]
  },
  {
   "cell_type": "code",
   "execution_count": null,
   "metadata": {},
   "outputs": [],
   "source": [
    "#Let's run the function\n",
    "allpdf_to_image(pdf)"
   ]
  }
 ],
 "metadata": {
  "kernelspec": {
   "display_name": "Python 3",
   "language": "python",
   "name": "python3"
  },
  "language_info": {
   "codemirror_mode": {
    "name": "ipython",
    "version": 3
   },
   "file_extension": ".py",
   "mimetype": "text/x-python",
   "name": "python",
   "nbconvert_exporter": "python",
   "pygments_lexer": "ipython3",
   "version": "3.7.1"
  }
 },
 "nbformat": 4,
 "nbformat_minor": 2
}
