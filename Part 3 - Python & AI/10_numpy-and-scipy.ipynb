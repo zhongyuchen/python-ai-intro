{
 "cells": [
  {
   "cell_type": "markdown",
   "metadata": {},
   "source": [
    "# Python Modules - NumPy and Scipy\n",
    "\n",
    "*By Dr Chas Nelson and Mikolaj Kundegorski*"
   ]
  },
  {
   "cell_type": "markdown",
   "metadata": {},
   "source": [
    "## Objectives\n",
    "\n",
    "* Know about numerical functions provided by NumPy (`numpy`)\n",
    "* Understand the concept of a NumPy array (`numpy.ndarry`)\n",
    "* Know about scientific functions provided by SciPy (`scipy`)\n",
    "* Know how to do linear regression with `scipy.stats.linregress`\n",
    "* Know how to access the NumPy and SciPy documentation"
   ]
  },
  {
   "cell_type": "markdown",
   "metadata": {},
   "source": [
    "## Numpy\n",
    "\n",
    "NumPy (`numpy`) is a large and extremely well developed module focussed on simple and complex mathematical functions and datatypes in Python. NumPy is a large module and we will only introduce you to a couple of functions today."
   ]
  },
  {
   "cell_type": "markdown",
   "metadata": {},
   "source": [
    "<div style=\"background-color:#abd9e9; border-radius: 5px; padding: 10pt\"><strong>Task 10.1:</strong> Create a new code cell beneath this cell and import the <code>numpy</code> module. It is conventional to give <code>numpy</code> module the alias <code>np</code>.\n",
    "<br/>\n",
    "If you get stuck, see the video <a href='https://youtu.be/KXEYPE4ryAU'>here</a> for a walkthrough, which also covers the next task.</div>"
   ]
  },
  {
   "cell_type": "markdown",
   "metadata": {},
   "source": [
    "<div style=\"background-color:#abd9e9; border-radius: 5px; padding: 10pt\"><strong>Task 10.2:</strong> Find the NumPy Documentation on-line. Can you easily navigate the documentation to find useful functions?\n",
    "<br/>\n",
    "When you've done this and the previous task, or if you get stuck, see the video <a href='https://youtu.be/KXEYPE4ryAU'>here</a> for a walkthrough. which also covers the previous task.</div>"
   ]
  },
  {
   "cell_type": "markdown",
   "metadata": {},
   "source": [
    "One of the key features of `numpy` is the introduction of a new datatype: the `numpy.ndarray`."
   ]
  },
  {
   "cell_type": "markdown",
   "metadata": {},
   "source": [
    "<div style=\"background-color:#fdae61; border-radius: 5px; padding: 10pt\"><strong>Exercise 10.3:</strong> Search the on-line NumPy documentation to find the <code>numpy.ndarray</code> page. Create a new Markdown cell beneath this one - list the four most important features of a <code>numpy.ndarray</code> as discussed.\n",
    "<br/>\n",
    "When you've done this, or if you get stuck, see the video <a href='https://youtu.be/O_XCZCXYx-I'>here</a> for a walkthrough.</div>"
   ]
  },
  {
   "cell_type": "markdown",
   "metadata": {},
   "source": [
    "<div style=\"background-color:#fdae61; border-radius: 5px; padding: 10pt\"><strong>Exercise 10.4:</strong> Run the code cell beneath this one to see how to create a simple <code>numpy.ndarray</code>. Note how NumPy has easy methods for calculating things like the mean and standard deviation of an array without having to write loops.\n",
    "<br/>\n",
    "When you've done this, or if you get stuck, see the video <a href='https://youtu.be/moIMPOXX4pY'>here</a> for a walkthrough.</div>"
   ]
  },
  {
   "cell_type": "code",
   "execution_count": null,
   "metadata": {},
   "outputs": [],
   "source": [
    "# Create a 3x3 array with the number 1 to 9\n",
    "myArray = np.array([[1,2,3],\n",
    "                 [4,5,6],\n",
    "                 [7,8,9]])\n",
    "print(myArray)\n",
    "\n",
    "# Calculate the mean and standard deviation of myArray\n",
    "print('The mean of myArray is {0:.2f} ...'.format(myArray.mean()))\n",
    "print('...and the standard deviation is {0:.2f}.'.format(myArray.std()))\n",
    "\n",
    "# Calculate the mean of each column and of each row\n",
    "print('The mean of each column of myArray is:')\n",
    "print(myArray.mean(axis=0))\n",
    "print('The mean of each row of myArray is:')\n",
    "print(myArray.mean(axis=1))"
   ]
  },
  {
   "cell_type": "markdown",
   "metadata": {},
   "source": [
    "The `numpy.ndarray` is particularly important if you plan to analyse images or 2D+ data, e.g. geological recordings.\n",
    "\n",
    "However, in the next notebook we will introduce the pandas DataFrame. This is another new data type and is built upon the `numpy.ndarray`. Many `numpy.ndarray` methods are also defined for pandas DataFrames."
   ]
  },
  {
   "cell_type": "markdown",
   "metadata": {
    "slideshow": {
     "slide_type": "slide"
    }
   },
   "source": [
    "### Slicing (...continued)\n",
    "\n",
    "Just like with a `list`, it is often useful to access particular elements of a `numpy.ndarray`, e.g. access specific pixels in an image.\n",
    "\n",
    "Also just like a list, this is done with square brackets: `[...]`."
   ]
  },
  {
   "cell_type": "markdown",
   "metadata": {
    "slideshow": {
     "slide_type": "slide"
    }
   },
   "source": [
    "<div style=\"background-color:#abd9e9; border-radius: 5px; padding: 10pt\"><strong>Task 10.5:</strong> The code cell beneath this one has a 1-dimensional `numpy.ndarray`. How might you access the fifth element of this array?</div>"
   ]
  },
  {
   "cell_type": "code",
   "execution_count": null,
   "metadata": {},
   "outputs": [],
   "source": [
    "my_array = np.array([0, 1, 2, 3, 4, 5, 6, 7, 8, 9])\n",
    "\n",
    "print(my_array)"
   ]
  },
  {
   "cell_type": "markdown",
   "metadata": {},
   "source": [
    "<div style=\"background-color:#abd9e9; border-radius: 5px; padding: 10pt\"><strong>Task 10.6:</strong> How might you access the second, third, fourth and fifth elements of this array?</div>"
   ]
  },
  {
   "cell_type": "markdown",
   "metadata": {
    "slideshow": {
     "slide_type": "slide"
    }
   },
   "source": [
    "Similarly, we can navigate a 2D `numpy.ndarray` by using row and column numbers to extract a single element.\n",
    "\n",
    "Remember: Python starts counting at zero so our axes are the 0th and 1st axes."
   ]
  },
  {
   "cell_type": "markdown",
   "metadata": {
    "slideshow": {
     "slide_type": "slide"
    }
   },
   "source": [
    "<div style=\"background-color:#fdae61; border-radius: 5px; padding: 10pt\"><strong>Exercise 10.7:</strong> The code cell beneath this one has a 2-dimensional `numpy.ndarray`. How might you access the second element of the second row of this array?</div>"
   ]
  },
  {
   "cell_type": "code",
   "execution_count": null,
   "metadata": {},
   "outputs": [],
   "source": [
    "my_2d_array = np.array([[0, 1, 2, 3, 4], [5, 6, 7, 8, 9]])\n",
    "\n",
    "print(my_2d_array)"
   ]
  },
  {
   "cell_type": "markdown",
   "metadata": {},
   "source": [
    "<div style=\"background-color:#abd9e9; border-radius: 5px; padding: 10pt\"><strong>Task 10.8:</strong> The code cell beneath this one has a 3-dimensional `numpy.ndarray`. How might you access the second element of the second row of the first slice of this array?</div>"
   ]
  },
  {
   "cell_type": "code",
   "execution_count": null,
   "metadata": {},
   "outputs": [],
   "source": [
    "my_3d_array = np.array([[[0, 1], [2, 3]], [[4, 5], [6, 7]]])\n",
    "\n",
    "print(my_3d_array)"
   ]
  },
  {
   "cell_type": "markdown",
   "metadata": {},
   "source": [
    "<div style=\"background-color:#fdae61; border-radius: 5px; padding: 10pt\"><strong>Exercise 10.9:</strong> Now run the following cell. Do you recognise the error? Create a new Markdown cell and describe this error in a way that's clear to you.</div>"
   ]
  },
  {
   "cell_type": "code",
   "execution_count": null,
   "metadata": {},
   "outputs": [],
   "source": [
    "print(my_3d_array[1, 1, 2])"
   ]
  },
  {
   "cell_type": "markdown",
   "metadata": {},
   "source": [
    "## Vectorization\n",
    "NumPy is able to delegate the task of performing mathematical operations on the array’s contents to optimized, compiled C code. This is a process that is referred to as vectorization.\n",
    "With vectorization, the underlying code is parallelized such that the operation can be run on multiply array elements at once, rather than looping through them one at a time."
   ]
  },
  {
   "cell_type": "code",
   "execution_count": null,
   "metadata": {},
   "outputs": [],
   "source": [
    "matrix=np.random.rand(1000,1000)"
   ]
  },
  {
   "cell_type": "code",
   "execution_count": null,
   "metadata": {},
   "outputs": [],
   "source": [
    "matrix=matrix*10"
   ]
  },
  {
   "cell_type": "code",
   "execution_count": null,
   "metadata": {},
   "outputs": [],
   "source": [
    "matrix=matrix.round()\n",
    "matrix"
   ]
  },
  {
   "cell_type": "code",
   "execution_count": null,
   "metadata": {},
   "outputs": [],
   "source": [
    "%%time\n",
    "for each in matrix:\n",
    "    print(sum(each))"
   ]
  },
  {
   "cell_type": "code",
   "execution_count": null,
   "metadata": {},
   "outputs": [],
   "source": [
    "%%time\n",
    "matrix.sum(axis=1)"
   ]
  },
  {
   "cell_type": "markdown",
   "metadata": {},
   "source": [
    "## SciPy\n",
    "\n",
    "SciPy (`scipy`) is another large and extremely well developed module but is focussed on mathematical, scientific and engineering functions and datatypes for Python. SciPy is also too large to cover in detail so we will only introduce you to one key function right now.\n",
    "\n",
    "### Importing SciPy\n",
    "\n",
    "Importing `scipy` is a little bit unusual. `scipy` has several large submodules and if you want to access functions in these submodules, they must be loaded as individual modules. For example, say you wanted to do some linear regression (which is in the `scipy.stats` submodule) and some image processing (using functions from `scipy.ndimage`) you need to import both submodule. E.g.:\n",
    "\n",
    "```python\n",
    "import scipy.stats\n",
    "import scipy.ndimage\n",
    "```"
   ]
  },
  {
   "cell_type": "code",
   "execution_count": null,
   "metadata": {},
   "outputs": [],
   "source": [
    "import scipy.stats\n",
    "import scipy.ndimage\n",
    "\n",
    "# Load data\n",
    "x = np.arange(0,9,1)  # create an array of the numbers 0 to 9\n",
    "y = np.arange(0,18,2)  # create an array of the numbers 0 to 18 in steps of 2\n",
    "im = np.zeros([10,10])  # create a 10 by 10 array of zeros, i.e. an empty image\n",
    "\n",
    "# Linear Regression of x and y\n",
    "slope, intercept, r_value, p_value, std_err = scipy.stats.linregress(x, y)\n",
    "\n",
    "# Apply Gaussianm Filter to im\n",
    "imBlurred = scipy.ndimage.gaussian_filter(im, sigma=5)"
   ]
  },
  {
   "cell_type": "code",
   "execution_count": null,
   "metadata": {},
   "outputs": [],
   "source": [
    "from PIL import Image"
   ]
  },
  {
   "cell_type": "code",
   "execution_count": null,
   "metadata": {},
   "outputs": [],
   "source": [
    "im=Image.open('koala.jpg')\n"
   ]
  },
  {
   "cell_type": "code",
   "execution_count": null,
   "metadata": {},
   "outputs": [],
   "source": [
    "im"
   ]
  },
  {
   "cell_type": "code",
   "execution_count": null,
   "metadata": {},
   "outputs": [],
   "source": [
    "imBlurred=scipy.ndimage.gaussian_filter(im,sigma=[5,5,0])\n",
    "newimage=Image.fromarray(imBlurred)"
   ]
  },
  {
   "cell_type": "code",
   "execution_count": null,
   "metadata": {
    "scrolled": false
   },
   "outputs": [],
   "source": [
    "newimage"
   ]
  },
  {
   "cell_type": "markdown",
   "metadata": {},
   "source": [
    "### Linear Regression\n",
    "\n",
    "The SciPy module contains a lot of useful stats functions including t-tests and linear regressions. Due to time constraints we will only explain the linear regression function (which we've already used above)."
   ]
  },
  {
   "cell_type": "markdown",
   "metadata": {},
   "source": [
    "<div style=\"background-color:#fdae61; border-radius: 5px; padding: 10pt\"><strong>Exercise 10.11:</strong> Load the documentation for <code>scipy.stats.linregress</code>. Create a Markdown cell beneath this one and write, in simple English, what each of the two parameters and five outputs mean.\n",
    "<br/>\n",
    "When you've done this, or if you get stuck, see the video <a href='https://youtu.be/yw6TEfzuujM'>here</a> for a walkthrough.</div>"
   ]
  },
  {
   "cell_type": "markdown",
   "metadata": {
    "slideshow": {
     "slide_type": "slide"
    }
   },
   "source": [
    "<div style=\"background-color:#fdae61; border-radius: 5px; padding: 10pt\"><strong>Exercise 10.12:</strong> The data below represents some simple experimental data. You have two arrays: <code>time_seconds</code>, which records the time in seconds that the data was taken and <code>distance_metres</code>`, which records the distance travelled at that time (in metres). As you might notice, the times at which the data was taken are unevenly distributed (let's pretend that your colleague came in with a box of doughnuts and distracted you!) - and so you want to interpolate your data to given you measurements at evenly distributed points.\n",
    "\n",
    "Now, you could do this with a for loop and lots of maths... but that isn't the Python way (if you can help it).\n",
    "    \n",
    "Working as a team, find an appropriate function in SciPy, go through the documentation together and try and create interpolated data for `new_time_seconds`.\n",
    "\n",
    "Question: What does `np.arange()` do? How is it different to the `range()` function we've seen before?</div>"
   ]
  },
  {
   "cell_type": "code",
   "execution_count": null,
   "metadata": {
    "slideshow": {
     "slide_type": "skip"
    }
   },
   "outputs": [],
   "source": [
    "time_seconds = [0, 1, 2, 3, 5, 7, 14, 15, 16, 17, 18, 19]\n",
    "distance_metres = [0, 9, 22, 30, 48, 74, 130, 148, 160, 170, 181, 189]\n",
    "\n",
    "new_time_seconds = np.arange(0, 20, 1)"
   ]
  },
  {
   "cell_type": "markdown",
   "metadata": {},
   "source": [
    "## Key Points\n",
    "\n",
    "* NumPy and SciPy increase the functionality of Python significantly\n",
    "* NumPy and SciPy provide mathematical, statistical, scientific and engineering functions\n",
    "* Whilst NumPy and SciPy documentation can look overwhelming, it can easily be interpreted"
   ]
  }
 ],
 "metadata": {
  "kernelspec": {
   "display_name": "Python 3",
   "language": "python",
   "name": "python3"
  },
  "language_info": {
   "codemirror_mode": {
    "name": "ipython",
    "version": 3
   },
   "file_extension": ".py",
   "mimetype": "text/x-python",
   "name": "python",
   "nbconvert_exporter": "python",
   "pygments_lexer": "ipython3",
   "version": "3.7.1"
  },
  "widgets": {
   "application/vnd.jupyter.widget-state+json": {
    "state": {},
    "version_major": 2,
    "version_minor": 0
   }
  }
 },
 "nbformat": 4,
 "nbformat_minor": 4
}
